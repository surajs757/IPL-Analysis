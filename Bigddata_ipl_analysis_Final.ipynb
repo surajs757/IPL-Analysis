{
 "cells": [
  {
   "cell_type": "markdown",
   "metadata": {},
   "source": [
    "# IPL Analysis"
   ]
  },
  {
   "cell_type": "code",
   "execution_count": 2,
   "metadata": {},
   "outputs": [],
   "source": [
    "import sys\n",
    "from pyspark.sql import SparkSession\n",
    "import pyspark.sql.functions as f\n",
    "from pyspark.sql.functions import split, explode"
   ]
  },
  {
   "cell_type": "code",
   "execution_count": 3,
   "metadata": {},
   "outputs": [],
   "source": [
    "spark = SparkSession.builder.getOrCreate()\n",
    "rawDF = spark.read.json(\"/Users/surajs/Desktop/Bigdata/data/335982.json\", multiLine = \"true\")"
   ]
  },
  {
   "cell_type": "code",
   "execution_count": 4,
   "metadata": {},
   "outputs": [
    {
     "name": "stdout",
     "output_type": "stream",
     "text": [
      "root\n",
      " |-- info: struct (nullable = true)\n",
      " |    |-- balls_per_over: long (nullable = true)\n",
      " |    |-- city: string (nullable = true)\n",
      " |    |-- dates: array (nullable = true)\n",
      " |    |    |-- element: string (containsNull = true)\n",
      " |    |-- event: struct (nullable = true)\n",
      " |    |    |-- match_number: long (nullable = true)\n",
      " |    |    |-- name: string (nullable = true)\n",
      " |    |-- gender: string (nullable = true)\n",
      " |    |-- match_type: string (nullable = true)\n",
      " |    |-- officials: struct (nullable = true)\n",
      " |    |    |-- match_referees: array (nullable = true)\n",
      " |    |    |    |-- element: string (containsNull = true)\n",
      " |    |    |-- reserve_umpires: array (nullable = true)\n",
      " |    |    |    |-- element: string (containsNull = true)\n",
      " |    |    |-- tv_umpires: array (nullable = true)\n",
      " |    |    |    |-- element: string (containsNull = true)\n",
      " |    |    |-- umpires: array (nullable = true)\n",
      " |    |    |    |-- element: string (containsNull = true)\n",
      " |    |-- outcome: struct (nullable = true)\n",
      " |    |    |-- by: struct (nullable = true)\n",
      " |    |    |    |-- runs: long (nullable = true)\n",
      " |    |    |-- winner: string (nullable = true)\n",
      " |    |-- overs: long (nullable = true)\n",
      " |    |-- player_of_match: array (nullable = true)\n",
      " |    |    |-- element: string (containsNull = true)\n",
      " |    |-- players: struct (nullable = true)\n",
      " |    |    |-- Kolkata Knight Riders: array (nullable = true)\n",
      " |    |    |    |-- element: string (containsNull = true)\n",
      " |    |    |-- Royal Challengers Bangalore: array (nullable = true)\n",
      " |    |    |    |-- element: string (containsNull = true)\n",
      " |    |-- registry: struct (nullable = true)\n",
      " |    |    |-- people: struct (nullable = true)\n",
      " |    |    |    |-- AA Noffke: string (nullable = true)\n",
      " |    |    |    |-- AB Agarkar: string (nullable = true)\n",
      " |    |    |    |-- AB Dinda: string (nullable = true)\n",
      " |    |    |    |-- AM Saheba: string (nullable = true)\n",
      " |    |    |    |-- Asad Rauf: string (nullable = true)\n",
      " |    |    |    |-- B Akhil: string (nullable = true)\n",
      " |    |    |    |-- BB McCullum: string (nullable = true)\n",
      " |    |    |    |-- CL White: string (nullable = true)\n",
      " |    |    |    |-- DJ Hussey: string (nullable = true)\n",
      " |    |    |    |-- I Sharma: string (nullable = true)\n",
      " |    |    |    |-- J Srinath: string (nullable = true)\n",
      " |    |    |    |-- JH Kallis: string (nullable = true)\n",
      " |    |    |    |-- LR Shukla: string (nullable = true)\n",
      " |    |    |    |-- M Kartik: string (nullable = true)\n",
      " |    |    |    |-- MV Boucher: string (nullable = true)\n",
      " |    |    |    |-- Mohammad Hafeez: string (nullable = true)\n",
      " |    |    |    |-- P Kumar: string (nullable = true)\n",
      " |    |    |    |-- R Dravid: string (nullable = true)\n",
      " |    |    |    |-- RE Koertzen: string (nullable = true)\n",
      " |    |    |    |-- RT Ponting: string (nullable = true)\n",
      " |    |    |    |-- SB Joshi: string (nullable = true)\n",
      " |    |    |    |-- SC Ganguly: string (nullable = true)\n",
      " |    |    |    |-- V Kohli: string (nullable = true)\n",
      " |    |    |    |-- VN Kulkarni: string (nullable = true)\n",
      " |    |    |    |-- W Jaffer: string (nullable = true)\n",
      " |    |    |    |-- WP Saha: string (nullable = true)\n",
      " |    |    |    |-- Z Khan: string (nullable = true)\n",
      " |    |-- season: string (nullable = true)\n",
      " |    |-- team_type: string (nullable = true)\n",
      " |    |-- teams: array (nullable = true)\n",
      " |    |    |-- element: string (containsNull = true)\n",
      " |    |-- toss: struct (nullable = true)\n",
      " |    |    |-- decision: string (nullable = true)\n",
      " |    |    |-- winner: string (nullable = true)\n",
      " |    |-- venue: string (nullable = true)\n",
      " |-- innings: array (nullable = true)\n",
      " |    |-- element: struct (containsNull = true)\n",
      " |    |    |-- overs: array (nullable = true)\n",
      " |    |    |    |-- element: struct (containsNull = true)\n",
      " |    |    |    |    |-- deliveries: array (nullable = true)\n",
      " |    |    |    |    |    |-- element: struct (containsNull = true)\n",
      " |    |    |    |    |    |    |-- batter: string (nullable = true)\n",
      " |    |    |    |    |    |    |-- bowler: string (nullable = true)\n",
      " |    |    |    |    |    |    |-- extras: struct (nullable = true)\n",
      " |    |    |    |    |    |    |    |-- byes: long (nullable = true)\n",
      " |    |    |    |    |    |    |    |-- legbyes: long (nullable = true)\n",
      " |    |    |    |    |    |    |    |-- wides: long (nullable = true)\n",
      " |    |    |    |    |    |    |-- non_striker: string (nullable = true)\n",
      " |    |    |    |    |    |    |-- runs: struct (nullable = true)\n",
      " |    |    |    |    |    |    |    |-- batter: long (nullable = true)\n",
      " |    |    |    |    |    |    |    |-- extras: long (nullable = true)\n",
      " |    |    |    |    |    |    |    |-- total: long (nullable = true)\n",
      " |    |    |    |    |    |    |-- wickets: array (nullable = true)\n",
      " |    |    |    |    |    |    |    |-- element: struct (containsNull = true)\n",
      " |    |    |    |    |    |    |    |    |-- fielders: array (nullable = true)\n",
      " |    |    |    |    |    |    |    |    |    |-- element: struct (containsNull = true)\n",
      " |    |    |    |    |    |    |    |    |    |    |-- name: string (nullable = true)\n",
      " |    |    |    |    |    |    |    |    |-- kind: string (nullable = true)\n",
      " |    |    |    |    |    |    |    |    |-- player_out: string (nullable = true)\n",
      " |    |    |    |    |-- over: long (nullable = true)\n",
      " |    |    |-- powerplays: array (nullable = true)\n",
      " |    |    |    |-- element: struct (containsNull = true)\n",
      " |    |    |    |    |-- from: double (nullable = true)\n",
      " |    |    |    |    |-- to: double (nullable = true)\n",
      " |    |    |    |    |-- type: string (nullable = true)\n",
      " |    |    |-- target: struct (nullable = true)\n",
      " |    |    |    |-- overs: long (nullable = true)\n",
      " |    |    |    |-- runs: long (nullable = true)\n",
      " |    |    |-- team: string (nullable = true)\n",
      " |-- meta: struct (nullable = true)\n",
      " |    |-- created: string (nullable = true)\n",
      " |    |-- data_version: string (nullable = true)\n",
      " |    |-- revision: long (nullable = true)\n",
      "\n"
     ]
    }
   ],
   "source": [
    "rawDF.printSchema()"
   ]
  },
  {
   "cell_type": "markdown",
   "metadata": {},
   "source": [
    "# First Innings"
   ]
  },
  {
   "cell_type": "code",
   "execution_count": 5,
   "metadata": {},
   "outputs": [],
   "source": [
    "inningDF=rawDF.select(f.col('innings').getItem(0).alias('innings1'))"
   ]
  },
  {
   "cell_type": "code",
   "execution_count": 6,
   "metadata": {},
   "outputs": [
    {
     "name": "stdout",
     "output_type": "stream",
     "text": [
      "+--------------------+\n",
      "|            innings1|\n",
      "+--------------------+\n",
      "|{[{[{SC Ganguly, ...|\n",
      "+--------------------+\n",
      "\n"
     ]
    }
   ],
   "source": [
    "inningDF.show()"
   ]
  },
  {
   "cell_type": "code",
   "execution_count": 7,
   "metadata": {},
   "outputs": [
    {
     "name": "stdout",
     "output_type": "stream",
     "text": [
      "+--------------------+\n",
      "|               overs|\n",
      "+--------------------+\n",
      "|{[{SC Ganguly, P ...|\n",
      "|{[{BB McCullum, Z...|\n",
      "|{[{SC Ganguly, P ...|\n",
      "|{[{BB McCullum, A...|\n",
      "|{[{SC Ganguly, P ...|\n",
      "|{[{BB McCullum, Z...|\n",
      "|{[{BB McCullum, A...|\n",
      "|{[{BB McCullum, Z...|\n",
      "|{[{BB McCullum, J...|\n",
      "|{[{RT Ponting, SB...|\n",
      "|{[{BB McCullum, J...|\n",
      "|{[{BB McCullum, S...|\n",
      "|{[{RT Ponting, JH...|\n",
      "|{[{BB McCullum, S...|\n",
      "|{[{DJ Hussey, CL ...|\n",
      "|{[{DJ Hussey, AA ...|\n",
      "|{[{BB McCullum, Z...|\n",
      "|{[{DJ Hussey, AA ...|\n",
      "|{[{BB McCullum, J...|\n",
      "|{[{BB McCullum, P...|\n",
      "+--------------------+\n",
      "\n"
     ]
    }
   ],
   "source": [
    "overDF=inningDF.select(explode('innings1.overs').alias('overs'))\n",
    "overDF.show()"
   ]
  },
  {
   "cell_type": "code",
   "execution_count": 8,
   "metadata": {},
   "outputs": [
    {
     "name": "stdout",
     "output_type": "stream",
     "text": [
      "+--------------------+\n",
      "|          deliveries|\n",
      "+--------------------+\n",
      "|{SC Ganguly, P Ku...|\n",
      "|{BB McCullum, P K...|\n",
      "|{BB McCullum, P K...|\n",
      "|{BB McCullum, P K...|\n",
      "|{BB McCullum, P K...|\n",
      "|{BB McCullum, P K...|\n",
      "|{BB McCullum, P K...|\n",
      "|{BB McCullum, Z K...|\n",
      "|{BB McCullum, Z K...|\n",
      "|{BB McCullum, Z K...|\n",
      "|{BB McCullum, Z K...|\n",
      "|{BB McCullum, Z K...|\n",
      "|{BB McCullum, Z K...|\n",
      "|{SC Ganguly, P Ku...|\n",
      "|{SC Ganguly, P Ku...|\n",
      "|{SC Ganguly, P Ku...|\n",
      "|{BB McCullum, P K...|\n",
      "|{BB McCullum, P K...|\n",
      "|{SC Ganguly, P Ku...|\n",
      "|{BB McCullum, AA ...|\n",
      "+--------------------+\n",
      "only showing top 20 rows\n",
      "\n"
     ]
    }
   ],
   "source": [
    "deliveryDF=overDF.select(explode('overs.deliveries').alias('deliveries'))\n",
    "deliveryDF.show()"
   ]
  },
  {
   "cell_type": "code",
   "execution_count": 9,
   "metadata": {},
   "outputs": [
    {
     "name": "stdout",
     "output_type": "stream",
     "text": [
      "+-----------+---------+-----------+\n",
      "|     batter|   bowler|runs_scored|\n",
      "+-----------+---------+-----------+\n",
      "| SC Ganguly|  P Kumar|          0|\n",
      "|BB McCullum|  P Kumar|          0|\n",
      "|BB McCullum|  P Kumar|          0|\n",
      "|BB McCullum|  P Kumar|          0|\n",
      "|BB McCullum|  P Kumar|          0|\n",
      "|BB McCullum|  P Kumar|          0|\n",
      "|BB McCullum|  P Kumar|          0|\n",
      "|BB McCullum|   Z Khan|          0|\n",
      "|BB McCullum|   Z Khan|          4|\n",
      "|BB McCullum|   Z Khan|          4|\n",
      "|BB McCullum|   Z Khan|          6|\n",
      "|BB McCullum|   Z Khan|          4|\n",
      "|BB McCullum|   Z Khan|          0|\n",
      "| SC Ganguly|  P Kumar|          0|\n",
      "| SC Ganguly|  P Kumar|          0|\n",
      "| SC Ganguly|  P Kumar|          0|\n",
      "|BB McCullum|  P Kumar|          4|\n",
      "|BB McCullum|  P Kumar|          1|\n",
      "| SC Ganguly|  P Kumar|          0|\n",
      "|BB McCullum|AA Noffke|          0|\n",
      "+-----------+---------+-----------+\n",
      "only showing top 20 rows\n",
      "\n"
     ]
    }
   ],
   "source": [
    "runsDF=deliveryDF.select('deliveries.batter','deliveries.bowler',f.col('deliveries.runs.batter').alias(\"runs_scored\"))\n",
    "runsDF.show()"
   ]
  },
  {
   "cell_type": "code",
   "execution_count": 10,
   "metadata": {},
   "outputs": [
    {
     "name": "stdout",
     "output_type": "stream",
     "text": [
      "+---------------+---------+-----------------+\n",
      "|         batter|   bowler|total_runs_scored|\n",
      "+---------------+---------+-----------------+\n",
      "|    BB McCullum|  P Kumar|               32|\n",
      "|     RT Ponting|JH Kallis|               11|\n",
      "|     RT Ponting| SB Joshi|                3|\n",
      "|      DJ Hussey| CL White|                6|\n",
      "|      DJ Hussey|   Z Khan|                3|\n",
      "|      DJ Hussey| SB Joshi|                2|\n",
      "|    BB McCullum|AA Noffke|               24|\n",
      "|    BB McCullum| CL White|               16|\n",
      "|     RT Ponting|   Z Khan|                2|\n",
      "|    BB McCullum|   Z Khan|               33|\n",
      "|     RT Ponting|AA Noffke|                4|\n",
      "|    BB McCullum| SB Joshi|               21|\n",
      "|Mohammad Hafeez|JH Kallis|                4|\n",
      "|     SC Ganguly|  P Kumar|                5|\n",
      "|Mohammad Hafeez|AA Noffke|                1|\n",
      "|      DJ Hussey|AA Noffke|                1|\n",
      "|     SC Ganguly|   Z Khan|                0|\n",
      "|     SC Ganguly|AA Noffke|                5|\n",
      "|    BB McCullum|JH Kallis|               32|\n",
      "+---------------+---------+-----------------+\n",
      "\n"
     ]
    }
   ],
   "source": [
    "totalrunDF=runsDF.groupBy('batter','bowler').agg(f.sum('runs_scored').alias('total_runs_scored'))\n",
    "totalrunDF.show()"
   ]
  },
  {
   "cell_type": "code",
   "execution_count": 11,
   "metadata": {},
   "outputs": [
    {
     "name": "stdout",
     "output_type": "stream",
     "text": [
      "+---------------+---------------+\n",
      "|         batter|max_runs_scored|\n",
      "+---------------+---------------+\n",
      "|Mohammad Hafeez|              4|\n",
      "|     RT Ponting|             11|\n",
      "|      DJ Hussey|              6|\n",
      "|    BB McCullum|             33|\n",
      "|     SC Ganguly|              5|\n",
      "+---------------+---------------+\n",
      "\n"
     ]
    }
   ],
   "source": [
    "maxrunsDF=totalrunDF.groupBy('batter').agg(f.max('total_runs_scored').alias('max_runs_scored'))\n",
    "maxrunsDF.show()"
   ]
  },
  {
   "cell_type": "code",
   "execution_count": 12,
   "metadata": {},
   "outputs": [
    {
     "name": "stdout",
     "output_type": "stream",
     "text": [
      "+---------------+---------+---------------+\n",
      "|         batter|   bowler|max_runs_scored|\n",
      "+---------------+---------+---------------+\n",
      "|     RT Ponting|JH Kallis|             11|\n",
      "|      DJ Hussey| CL White|              6|\n",
      "|    BB McCullum|   Z Khan|             33|\n",
      "|Mohammad Hafeez|JH Kallis|              4|\n",
      "|     SC Ganguly|  P Kumar|              5|\n",
      "|     SC Ganguly|AA Noffke|              5|\n",
      "+---------------+---------+---------------+\n",
      "\n"
     ]
    }
   ],
   "source": [
    "resDF=totalrunDF.join(maxrunsDF, (maxrunsDF.max_runs_scored==totalrunDF.total_runs_scored) & (maxrunsDF.batter==totalrunDF.batter), how=\"leftsemi\").withColumnRenamed(\"total_runs_scored\", \"max_runs_scored\")\n",
    "resDF.show()"
   ]
  },
  {
   "cell_type": "markdown",
   "metadata": {},
   "source": [
    "# Second Innings"
   ]
  },
  {
   "cell_type": "code",
   "execution_count": 13,
   "metadata": {},
   "outputs": [
    {
     "name": "stdout",
     "output_type": "stream",
     "text": [
      "+--------------------+\n",
      "|            innings2|\n",
      "+--------------------+\n",
      "|{[{[{R Dravid, AB...|\n",
      "+--------------------+\n",
      "\n"
     ]
    }
   ],
   "source": [
    "inningDF2=rawDF.select(f.col('innings').getItem(1).alias('innings2'))\n",
    "inningDF2.show()"
   ]
  },
  {
   "cell_type": "code",
   "execution_count": 14,
   "metadata": {},
   "outputs": [
    {
     "name": "stdout",
     "output_type": "stream",
     "text": [
      "+--------------------+\n",
      "|               overs|\n",
      "+--------------------+\n",
      "|{[{R Dravid, AB D...|\n",
      "|{[{R Dravid, I Sh...|\n",
      "|{[{V Kohli, AB Di...|\n",
      "|{[{W Jaffer, I Sh...|\n",
      "|{[{JH Kallis, AB ...|\n",
      "|{[{W Jaffer, AB D...|\n",
      "|{[{CL White, AB A...|\n",
      "|{[{CL White, SC G...|\n",
      "|{[{B Akhil, AB Ag...|\n",
      "|{[{AA Noffke, SC ...|\n",
      "|{[{AA Noffke, AB ...|\n",
      "|{[{AA Noffke, SC ...|\n",
      "|{[{P Kumar, LR Sh...|\n",
      "|{[{Z Khan, SC Gan...|\n",
      "|{[{SB Joshi, I Sh...|\n",
      "|{[{SB Joshi, LR S...|\n",
      "+--------------------+\n",
      "\n"
     ]
    }
   ],
   "source": [
    "overDF2=inningDF2.select(explode('innings2.overs').alias('overs'))\n",
    "overDF2.show()"
   ]
  },
  {
   "cell_type": "code",
   "execution_count": 15,
   "metadata": {},
   "outputs": [
    {
     "name": "stdout",
     "output_type": "stream",
     "text": [
      "+--------------------+\n",
      "|          deliveries|\n",
      "+--------------------+\n",
      "|{R Dravid, AB Din...|\n",
      "|{W Jaffer, AB Din...|\n",
      "|{W Jaffer, AB Din...|\n",
      "|{W Jaffer, AB Din...|\n",
      "|{R Dravid, AB Din...|\n",
      "|{W Jaffer, AB Din...|\n",
      "|{W Jaffer, AB Din...|\n",
      "|{R Dravid, I Shar...|\n",
      "|{V Kohli, I Sharm...|\n",
      "|{V Kohli, I Sharm...|\n",
      "|{V Kohli, I Sharm...|\n",
      "|{W Jaffer, I Shar...|\n",
      "|{W Jaffer, I Shar...|\n",
      "|{V Kohli, AB Dind...|\n",
      "|{V Kohli, AB Dind...|\n",
      "|{JH Kallis, AB Di...|\n",
      "|{W Jaffer, AB Din...|\n",
      "|{W Jaffer, AB Din...|\n",
      "|{W Jaffer, AB Din...|\n",
      "|{W Jaffer, AB Din...|\n",
      "+--------------------+\n",
      "only showing top 20 rows\n",
      "\n"
     ]
    }
   ],
   "source": [
    "deliveryDF2=overDF2.select(explode('overs.deliveries').alias('deliveries'))\n",
    "deliveryDF2.show()"
   ]
  },
  {
   "cell_type": "code",
   "execution_count": 16,
   "metadata": {},
   "outputs": [
    {
     "name": "stdout",
     "output_type": "stream",
     "text": [
      "+---------+--------+-----------+\n",
      "|   batter|  bowler|runs_scored|\n",
      "+---------+--------+-----------+\n",
      "| R Dravid|AB Dinda|          1|\n",
      "| W Jaffer|AB Dinda|          0|\n",
      "| W Jaffer|AB Dinda|          0|\n",
      "| W Jaffer|AB Dinda|          1|\n",
      "| R Dravid|AB Dinda|          1|\n",
      "| W Jaffer|AB Dinda|          0|\n",
      "| W Jaffer|AB Dinda|          0|\n",
      "| R Dravid|I Sharma|          0|\n",
      "|  V Kohli|I Sharma|          0|\n",
      "|  V Kohli|I Sharma|          0|\n",
      "|  V Kohli|I Sharma|          1|\n",
      "| W Jaffer|I Sharma|          0|\n",
      "| W Jaffer|I Sharma|          0|\n",
      "|  V Kohli|AB Dinda|          0|\n",
      "|  V Kohli|AB Dinda|          0|\n",
      "|JH Kallis|AB Dinda|          1|\n",
      "| W Jaffer|AB Dinda|          0|\n",
      "| W Jaffer|AB Dinda|          0|\n",
      "| W Jaffer|AB Dinda|          0|\n",
      "| W Jaffer|AB Dinda|          1|\n",
      "+---------+--------+-----------+\n",
      "only showing top 20 rows\n",
      "\n"
     ]
    }
   ],
   "source": [
    "runsDF2=deliveryDF2.select('deliveries.batter','deliveries.bowler',f.col('deliveries.runs.batter').alias(\"runs_scored\"))\n",
    "runsDF2.show()"
   ]
  },
  {
   "cell_type": "code",
   "execution_count": 17,
   "metadata": {},
   "outputs": [
    {
     "name": "stdout",
     "output_type": "stream",
     "text": [
      "+----------+----------+-----------------+\n",
      "|    batter|    bowler|total_runs_scored|\n",
      "+----------+----------+-----------------+\n",
      "|MV Boucher|AB Agarkar|                4|\n",
      "|  W Jaffer|AB Agarkar|                1|\n",
      "| AA Noffke|AB Agarkar|                2|\n",
      "| AA Noffke|SC Ganguly|                7|\n",
      "|   P Kumar| LR Shukla|                7|\n",
      "|  SB Joshi|SC Ganguly|                1|\n",
      "|   P Kumar|  I Sharma|                0|\n",
      "|  W Jaffer|  AB Dinda|                2|\n",
      "|  SB Joshi|  I Sharma|                2|\n",
      "|  W Jaffer|  I Sharma|                3|\n",
      "|  CL White|  AB Dinda|                1|\n",
      "|   V Kohli|  I Sharma|                1|\n",
      "|   B Akhil|AB Agarkar|                0|\n",
      "|    Z Khan| LR Shukla|                2|\n",
      "|   P Kumar|SC Ganguly|                7|\n",
      "|   V Kohli|  AB Dinda|                0|\n",
      "| JH Kallis|AB Agarkar|                7|\n",
      "|  R Dravid|  AB Dinda|                2|\n",
      "|    Z Khan|SC Ganguly|                1|\n",
      "|  CL White|SC Ganguly|                2|\n",
      "+----------+----------+-----------------+\n",
      "only showing top 20 rows\n",
      "\n"
     ]
    }
   ],
   "source": [
    "totalrunsDF2=runsDF2.groupBy('batter','bowler').agg(f.sum('runs_scored').alias('total_runs_scored'))\n",
    "totalrunsDF2.show()"
   ]
  },
  {
   "cell_type": "code",
   "execution_count": 18,
   "metadata": {},
   "outputs": [
    {
     "name": "stdout",
     "output_type": "stream",
     "text": [
      "+----------+---------------+\n",
      "|    batter|max_runs_scored|\n",
      "+----------+---------------+\n",
      "|  SB Joshi|              2|\n",
      "|  R Dravid|              2|\n",
      "| JH Kallis|              7|\n",
      "| AA Noffke|              7|\n",
      "|  CL White|              3|\n",
      "|  W Jaffer|              3|\n",
      "|   B Akhil|              0|\n",
      "|   V Kohli|              1|\n",
      "|   P Kumar|              7|\n",
      "|MV Boucher|              4|\n",
      "|    Z Khan|              2|\n",
      "+----------+---------------+\n",
      "\n"
     ]
    }
   ],
   "source": [
    "maxrunsDF2=totalrunsDF2.groupBy('batter').agg(f.max('total_runs_scored').alias('max_runs_scored'))\n",
    "maxrunsDF2.show()"
   ]
  },
  {
   "cell_type": "code",
   "execution_count": 19,
   "metadata": {},
   "outputs": [
    {
     "name": "stdout",
     "output_type": "stream",
     "text": [
      "+----------+----------+---------------+\n",
      "|    batter|    bowler|max_runs_scored|\n",
      "+----------+----------+---------------+\n",
      "|MV Boucher|AB Agarkar|              4|\n",
      "| AA Noffke|SC Ganguly|              7|\n",
      "|   P Kumar| LR Shukla|              7|\n",
      "|  SB Joshi|  I Sharma|              2|\n",
      "|  W Jaffer|  I Sharma|              3|\n",
      "|   V Kohli|  I Sharma|              1|\n",
      "|   B Akhil|AB Agarkar|              0|\n",
      "|    Z Khan| LR Shukla|              2|\n",
      "|   P Kumar|SC Ganguly|              7|\n",
      "| JH Kallis|AB Agarkar|              7|\n",
      "|  R Dravid|  AB Dinda|              2|\n",
      "|  CL White|AB Agarkar|              3|\n",
      "+----------+----------+---------------+\n",
      "\n"
     ]
    }
   ],
   "source": [
    "resDF2=totalrunsDF2.join(maxrunsDF2, (maxrunsDF2.max_runs_scored==totalrunsDF2.total_runs_scored) & (maxrunsDF2.batter==totalrunsDF2.batter), how=\"leftsemi\").withColumnRenamed(\"total_runs_scored\", \"max_runs_scored\")\n",
    "resDF2.show()"
   ]
  },
  {
   "cell_type": "code",
   "execution_count": 21,
   "metadata": {},
   "outputs": [
    {
     "name": "stdout",
     "output_type": "stream",
     "text": [
      "+----------+---------------+\n",
      "|    batter|min_runs_scored|\n",
      "+----------+---------------+\n",
      "|  SB Joshi|              0|\n",
      "|  R Dravid|              0|\n",
      "| JH Kallis|              0|\n",
      "| AA Noffke|              2|\n",
      "|  CL White|              1|\n",
      "|  W Jaffer|              1|\n",
      "|   B Akhil|              0|\n",
      "|   V Kohli|              0|\n",
      "|   P Kumar|              0|\n",
      "|MV Boucher|              1|\n",
      "|    Z Khan|              1|\n",
      "+----------+---------------+\n",
      "\n"
     ]
    }
   ],
   "source": [
    "minrunsDF2=totalrunsDF2.groupBy('batter').agg(f.min('total_runs_scored').alias('min_runs_scored'))\n",
    "minrunsDF2.show()"
   ]
  },
  {
   "cell_type": "code",
   "execution_count": 22,
   "metadata": {},
   "outputs": [
    {
     "name": "stdout",
     "output_type": "stream",
     "text": [
      "+----------+----------+---------------+\n",
      "|    batter|    bowler|min_runs_scored|\n",
      "+----------+----------+---------------+\n",
      "|  W Jaffer|AB Agarkar|              1|\n",
      "| AA Noffke|AB Agarkar|              2|\n",
      "|   P Kumar|  I Sharma|              0|\n",
      "|  CL White|  AB Dinda|              1|\n",
      "|   B Akhil|AB Agarkar|              0|\n",
      "|   V Kohli|  AB Dinda|              0|\n",
      "|    Z Khan|SC Ganguly|              1|\n",
      "|  SB Joshi| LR Shukla|              0|\n",
      "|MV Boucher|  AB Dinda|              1|\n",
      "|  R Dravid|  I Sharma|              0|\n",
      "| JH Kallis|  I Sharma|              0|\n",
      "+----------+----------+---------------+\n",
      "\n"
     ]
    }
   ],
   "source": [
    "resuDF2=totalrunsDF2.join(minrunsDF2, (minrunsDF2.min_runs_scored==totalrunsDF2.total_runs_scored) & (minrunsDF2.batter==totalrunsDF2.batter), how=\"leftsemi\").withColumnRenamed(\"total_runs_scored\", \"min_runs_scored\")\n",
    "resuDF2.show()"
   ]
  },
  {
   "cell_type": "code",
   "execution_count": null,
   "metadata": {},
   "outputs": [],
   "source": []
  }
 ],
 "metadata": {
  "kernelspec": {
   "display_name": "Python 3",
   "language": "python",
   "name": "python3"
  },
  "language_info": {
   "codemirror_mode": {
    "name": "ipython",
    "version": 3
   },
   "file_extension": ".py",
   "mimetype": "text/x-python",
   "name": "python",
   "nbconvert_exporter": "python",
   "pygments_lexer": "ipython3",
   "version": "3.7.6"
  }
 },
 "nbformat": 4,
 "nbformat_minor": 4
}
